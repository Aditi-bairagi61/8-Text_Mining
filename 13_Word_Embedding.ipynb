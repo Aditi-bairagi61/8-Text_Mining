{
 "cells": [
  {
   "cell_type": "markdown",
   "id": "2923b346-23b5-42ba-a730-97fcd5073019",
   "metadata": {},
   "source": [
    "## 9 september 2024"
   ]
  },
  {
   "cell_type": "code",
   "execution_count": null,
   "id": "fa333a9c-9a6d-43aa-9cbb-e2424d108d6c",
   "metadata": {},
   "outputs": [],
   "source": []
  }
 ],
 "metadata": {
  "kernelspec": {
   "display_name": "Python 3 (ipykernel)",
   "language": "python",
   "name": "python3"
  },
  "language_info": {
   "codemirror_mode": {
    "name": "ipython",
    "version": 3
   },
   "file_extension": ".py",
   "mimetype": "text/x-python",
   "name": "python",
   "nbconvert_exporter": "python",
   "pygments_lexer": "ipython3",
   "version": "3.12.4"
  }
 },
 "nbformat": 4,
 "nbformat_minor": 5
}
